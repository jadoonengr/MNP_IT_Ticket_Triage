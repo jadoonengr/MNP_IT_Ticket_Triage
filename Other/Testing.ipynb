{
 "cells": [
  {
   "cell_type": "code",
   "execution_count": 2,
   "metadata": {},
   "outputs": [
    {
     "output_type": "stream",
     "name": "stdout",
     "text": [
      "Compute engine used:  cpu\n"
     ]
    }
   ],
   "source": [
    "import dashboard_metrics"
   ]
  },
  {
   "cell_type": "code",
   "execution_count": 3,
   "metadata": {},
   "outputs": [
    {
     "output_type": "stream",
     "name": "stdout",
     "text": [
      "--Pre-loading BERT Tokenizers (1/7)--\n",
      "--Train-Test Split (2/7)--\n",
      "--Embedding Text with BERT. Will take a few minutes. (3/7)--\n",
      "Total Time (mins): 0:01:22\n",
      "Total Time (mins): 0:00:19\n",
      "--Board Modelling (4/7)--\n",
      "--Severity Modelling (5/7)--\n",
      "--Fitting Model--\n",
      "--Done--\n",
      "--Impact Modelling (6/7)--\n",
      "--Fitting Model--\n",
      "--Done--\n",
      "--Compile and Output results to Model_History (7/7)--\n"
     ]
    }
   ],
   "source": [
    "dashboard_metrics.train_test(run_name = \"2k_Dataset\",train_proportion = 0.8, file_address = \"./Data/Tickets with Classifications.xlsx\",file_output = \"./Model_History/dashboard_triage_metrics.csv\")"
   ]
  },
  {
   "cell_type": "code",
   "execution_count": 3,
   "metadata": {},
   "outputs": [],
   "source": [
    "import csv\n",
    "\n",
    "with open(\"./Model_History/dashboard_triage_metrics.csv\", \"a\") as file:\n",
    "    csv_writter  = csv.writer(file)\n",
    "    csv_writter.writerow([\"123\",\"213\",\"Dog\"])"
   ]
  },
  {
   "cell_type": "code",
   "execution_count": 8,
   "metadata": {},
   "outputs": [],
   "source": [
    "import pandas as pd"
   ]
  },
  {
   "cell_type": "code",
   "execution_count": 9,
   "metadata": {},
   "outputs": [],
   "source": [
    "nice = pd.read_csv(\"./Model_History/dashboard_triage_metrics.csv\")"
   ]
  },
  {
   "cell_type": "code",
   "execution_count": 18,
   "metadata": {},
   "outputs": [],
   "source": [
    "if nice.columns is [\"model_name\",\n",
    "                                             \"date_entered\",\n",
    "                                             \"train_board_accuracy\",\n",
    "                                             \"train_board_f1_score\",\n",
    "                                             \"test_board_accuracy\",\n",
    "                                             \"test_board_f1_score\",\n",
    "                                             \"train_severity_custom_metric\",\n",
    "                                             \"train_severity_f1_weighted\",\n",
    "                                             \"test_severity_custom_metric\",\n",
    "                                             \"test_severity_f1_weighted\",\n",
    "                                             \"train_impact_custom_metric\",\n",
    "                                             \"train_impact_f1_weighted\",\n",
    "                                             \"test_impact_custom_metric\",\n",
    "                                             \"test_impact_f1_weighted\"]:\n",
    "    print(\"Nice\")"
   ]
  },
  {
   "cell_type": "code",
   "execution_count": 15,
   "metadata": {},
   "outputs": [
    {
     "data": {
      "text/html": [
       "<div>\n",
       "<style scoped>\n",
       "    .dataframe tbody tr th:only-of-type {\n",
       "        vertical-align: middle;\n",
       "    }\n",
       "\n",
       "    .dataframe tbody tr th {\n",
       "        vertical-align: top;\n",
       "    }\n",
       "\n",
       "    .dataframe thead th {\n",
       "        text-align: right;\n",
       "    }\n",
       "</style>\n",
       "<table border=\"1\" class=\"dataframe\">\n",
       "  <thead>\n",
       "    <tr style=\"text-align: right;\">\n",
       "      <th></th>\n",
       "      <th>model_name</th>\n",
       "      <th>date_entered</th>\n",
       "      <th>train_board_accuracy</th>\n",
       "      <th>train_board_f1_score</th>\n",
       "      <th>test_board_accuracy</th>\n",
       "      <th>test_board_f1_score</th>\n",
       "      <th>train_severity_custom_metric</th>\n",
       "      <th>train_severity_f1_weighted</th>\n",
       "      <th>test_severity_custom_metric</th>\n",
       "      <th>test_severity_f1_weighted</th>\n",
       "      <th>train_impact_custom_metric</th>\n",
       "      <th>train_impact_f1_weighted</th>\n",
       "      <th>test_impact_custom_metric</th>\n",
       "      <th>test_impact_f1_weighted</th>\n",
       "    </tr>\n",
       "  </thead>\n",
       "  <tbody>\n",
       "    <tr>\n",
       "      <th>0</th>\n",
       "      <td>Train_Test</td>\n",
       "      <td>18/06/2021 12:20:13</td>\n",
       "      <td>0.9536631183469004</td>\n",
       "      <td>0.953551</td>\n",
       "      <td>0.835</td>\n",
       "      <td>0.835418</td>\n",
       "      <td>0.827804</td>\n",
       "      <td>0.665312</td>\n",
       "      <td>0.8225</td>\n",
       "      <td>0.615815</td>\n",
       "      <td>0.849109</td>\n",
       "      <td>0.712807</td>\n",
       "      <td>0.8225</td>\n",
       "      <td>0.68838</td>\n",
       "    </tr>\n",
       "    <tr>\n",
       "      <th>1</th>\n",
       "      <td>Train_Test</td>\n",
       "      <td>18/06/2021 12:26:43</td>\n",
       "      <td>0.9536631183469004</td>\n",
       "      <td>0.953551</td>\n",
       "      <td>0.835</td>\n",
       "      <td>0.835418</td>\n",
       "      <td>0.827804</td>\n",
       "      <td>0.665312</td>\n",
       "      <td>0.8225</td>\n",
       "      <td>0.615815</td>\n",
       "      <td>0.849109</td>\n",
       "      <td>0.712807</td>\n",
       "      <td>0.8225</td>\n",
       "      <td>0.68838</td>\n",
       "    </tr>\n",
       "    <tr>\n",
       "      <th>2</th>\n",
       "      <td>123</td>\n",
       "      <td>213</td>\n",
       "      <td>Dog</td>\n",
       "      <td>NaN</td>\n",
       "      <td>NaN</td>\n",
       "      <td>NaN</td>\n",
       "      <td>NaN</td>\n",
       "      <td>NaN</td>\n",
       "      <td>NaN</td>\n",
       "      <td>NaN</td>\n",
       "      <td>NaN</td>\n",
       "      <td>NaN</td>\n",
       "      <td>NaN</td>\n",
       "      <td>NaN</td>\n",
       "    </tr>\n",
       "    <tr>\n",
       "      <th>3</th>\n",
       "      <td>2k_Dataset</td>\n",
       "      <td>18/06/2021 12:35:46</td>\n",
       "      <td>0.9536631183469004</td>\n",
       "      <td>0.953551</td>\n",
       "      <td>0.835</td>\n",
       "      <td>0.835418</td>\n",
       "      <td>0.827804</td>\n",
       "      <td>0.665312</td>\n",
       "      <td>0.8225</td>\n",
       "      <td>0.615815</td>\n",
       "      <td>0.849109</td>\n",
       "      <td>0.712807</td>\n",
       "      <td>0.8225</td>\n",
       "      <td>0.68838</td>\n",
       "    </tr>\n",
       "    <tr>\n",
       "      <th>4</th>\n",
       "      <td>123</td>\n",
       "      <td>213</td>\n",
       "      <td>Dog</td>\n",
       "      <td>NaN</td>\n",
       "      <td>NaN</td>\n",
       "      <td>NaN</td>\n",
       "      <td>NaN</td>\n",
       "      <td>NaN</td>\n",
       "      <td>NaN</td>\n",
       "      <td>NaN</td>\n",
       "      <td>NaN</td>\n",
       "      <td>NaN</td>\n",
       "      <td>NaN</td>\n",
       "      <td>NaN</td>\n",
       "    </tr>\n",
       "  </tbody>\n",
       "</table>\n",
       "</div>"
      ],
      "text/plain": [
       "   model_name         date_entered train_board_accuracy  train_board_f1_score  \\\n",
       "0  Train_Test  18/06/2021 12:20:13   0.9536631183469004              0.953551   \n",
       "1  Train_Test  18/06/2021 12:26:43   0.9536631183469004              0.953551   \n",
       "2         123                  213                  Dog                   NaN   \n",
       "3  2k_Dataset  18/06/2021 12:35:46   0.9536631183469004              0.953551   \n",
       "4         123                  213                  Dog                   NaN   \n",
       "\n",
       "   test_board_accuracy  test_board_f1_score  train_severity_custom_metric  \\\n",
       "0                0.835             0.835418                      0.827804   \n",
       "1                0.835             0.835418                      0.827804   \n",
       "2                  NaN                  NaN                           NaN   \n",
       "3                0.835             0.835418                      0.827804   \n",
       "4                  NaN                  NaN                           NaN   \n",
       "\n",
       "   train_severity_f1_weighted  test_severity_custom_metric  \\\n",
       "0                    0.665312                       0.8225   \n",
       "1                    0.665312                       0.8225   \n",
       "2                         NaN                          NaN   \n",
       "3                    0.665312                       0.8225   \n",
       "4                         NaN                          NaN   \n",
       "\n",
       "   test_severity_f1_weighted  train_impact_custom_metric  \\\n",
       "0                   0.615815                    0.849109   \n",
       "1                   0.615815                    0.849109   \n",
       "2                        NaN                         NaN   \n",
       "3                   0.615815                    0.849109   \n",
       "4                        NaN                         NaN   \n",
       "\n",
       "   train_impact_f1_weighted  test_impact_custom_metric  \\\n",
       "0                  0.712807                     0.8225   \n",
       "1                  0.712807                     0.8225   \n",
       "2                       NaN                        NaN   \n",
       "3                  0.712807                     0.8225   \n",
       "4                       NaN                        NaN   \n",
       "\n",
       "   test_impact_f1_weighted  \n",
       "0                  0.68838  \n",
       "1                  0.68838  \n",
       "2                      NaN  \n",
       "3                  0.68838  \n",
       "4                      NaN  "
      ]
     },
     "execution_count": 15,
     "metadata": {},
     "output_type": "execute_result"
    }
   ],
   "source": [
    "nice"
   ]
  },
  {
   "cell_type": "code",
   "execution_count": null,
   "metadata": {},
   "outputs": [],
   "source": []
  }
 ],
 "metadata": {
  "kernelspec": {
   "name": "python3",
   "display_name": "Python 3.8.3 64-bit ('base': conda)"
  },
  "language_info": {
   "codemirror_mode": {
    "name": "ipython",
    "version": 3
   },
   "file_extension": ".py",
   "mimetype": "text/x-python",
   "name": "python",
   "nbconvert_exporter": "python",
   "pygments_lexer": "ipython3",
   "version": "3.8.3"
  },
  "interpreter": {
   "hash": "b3ba2566441a7c06988d0923437866b63cedc61552a5af99d1f4fb67d367b25f"
  }
 },
 "nbformat": 4,
 "nbformat_minor": 4
}