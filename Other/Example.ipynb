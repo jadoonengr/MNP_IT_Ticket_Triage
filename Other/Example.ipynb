{
 "cells": [
  {
   "cell_type": "markdown",
   "metadata": {},
   "source": [
    "# Example From Pre-processing to Prediction"
   ]
  },
  {
   "cell_type": "code",
   "execution_count": 1,
   "metadata": {},
   "outputs": [
    {
     "name": "stdout",
     "output_type": "stream",
     "text": [
      "Compute engine used:  cuda:0\n"
     ]
    }
   ],
   "source": [
    "### General Packages ###\n",
    "import pandas as pd\n",
    "import datetime\n",
    "import altair as alt\n",
    "\n",
    "### For Model Exporting ###\n",
    "from joblib import dump, load\n",
    "\n",
    "### Metrics for Evaluation ###\n",
    "from sklearn.model_selection import cross_val_score\n",
    "from sklearn.metrics import classification_report, confusion_matrix\n",
    "\n",
    "### For Board Modelling ###\n",
    "from sklearn.svm import SVC\n",
    "\n",
    "### Ticket triage functions ###\n",
    "import sys\n",
    "sys.path.append(\"src/Auxiliary/\")\n",
    "sys.path.append(\"src/Cleaning/\")\n",
    "sys.path.append(\"src/Model/\")\n",
    "sys.path.append(\"src/Tokenizer/\")\n",
    "\n",
    "### For pre-processing ###\n",
    "import ticket_cleaner\n",
    "import bert_tokenizer\n",
    "\n",
    "### For Board Modelling ###\n",
    "import board\n",
    "\n",
    "### For Severity Modelling ###\n",
    "import severity\n",
    "\n",
    "### For Impact Modelling ###\n",
    "import impact"
   ]
  },
  {
   "cell_type": "markdown",
   "metadata": {},
   "source": [
    "# Import Data"
   ]
  },
  {
   "cell_type": "code",
   "execution_count": 2,
   "metadata": {},
   "outputs": [
    {
     "data": {
      "text/html": [
       "<div>\n",
       "<style scoped>\n",
       "    .dataframe tbody tr th:only-of-type {\n",
       "        vertical-align: middle;\n",
       "    }\n",
       "\n",
       "    .dataframe tbody tr th {\n",
       "        vertical-align: top;\n",
       "    }\n",
       "\n",
       "    .dataframe thead th {\n",
       "        text-align: right;\n",
       "    }\n",
       "</style>\n",
       "<table border=\"1\" class=\"dataframe\">\n",
       "  <thead>\n",
       "    <tr style=\"text-align: right;\">\n",
       "      <th></th>\n",
       "      <th>ticketNbr</th>\n",
       "      <th>company_name</th>\n",
       "      <th>contact_name</th>\n",
       "      <th>Summary</th>\n",
       "      <th>Initial_Description</th>\n",
       "      <th>SR_Impact_RecID</th>\n",
       "      <th>SR_Severity_RecID</th>\n",
       "      <th>SR_Board_RecID</th>\n",
       "      <th>Source</th>\n",
       "      <th>date_entered</th>\n",
       "    </tr>\n",
       "  </thead>\n",
       "  <tbody>\n",
       "    <tr>\n",
       "      <th>0</th>\n",
       "      <td>1367437</td>\n",
       "      <td>Igloo Building Supplies Group</td>\n",
       "      <td>Steven Gravel</td>\n",
       "      <td>- Set up authenticator</td>\n",
       "      <td>Hello,\\n\\nI have a new Iphone and I cannot fig...</td>\n",
       "      <td>1</td>\n",
       "      <td>3</td>\n",
       "      <td>41</td>\n",
       "      <td>Email Connector</td>\n",
       "      <td>2021-02-22 08:07:10</td>\n",
       "    </tr>\n",
       "    <tr>\n",
       "      <th>1</th>\n",
       "      <td>1367056</td>\n",
       "      <td>Group2 Architecture Interior Design Ltd.</td>\n",
       "      <td>Ron Murdoch</td>\n",
       "      <td>Ron Murdoch - bluebeam update failed</td>\n",
       "      <td>Can you tell me what your computer name is and...</td>\n",
       "      <td>1</td>\n",
       "      <td>2</td>\n",
       "      <td>41</td>\n",
       "      <td>Email Connector</td>\n",
       "      <td>2021-02-21 10:36:46</td>\n",
       "    </tr>\n",
       "    <tr>\n",
       "      <th>2</th>\n",
       "      <td>1366390</td>\n",
       "      <td>Calmont Group</td>\n",
       "      <td>Brad Wearmouth</td>\n",
       "      <td>Brad Wearmouth - Email hacked</td>\n",
       "      <td>Hi,\\n\\nI believe my email has been compromised...</td>\n",
       "      <td>1</td>\n",
       "      <td>3</td>\n",
       "      <td>41</td>\n",
       "      <td>Email Connector</td>\n",
       "      <td>2021-02-19 21:34:56</td>\n",
       "    </tr>\n",
       "    <tr>\n",
       "      <th>3</th>\n",
       "      <td>1366274</td>\n",
       "      <td>E4C</td>\n",
       "      <td>CÃ©line Scott</td>\n",
       "      <td>CÃ©line Scott - Adobe still not fully functioning</td>\n",
       "      <td>### Summary of Issue\\r\\nAdobe still not fully ...</td>\n",
       "      <td>1</td>\n",
       "      <td>2</td>\n",
       "      <td>41</td>\n",
       "      <td>DeskDirector</td>\n",
       "      <td>2021-02-19 17:37:03</td>\n",
       "    </tr>\n",
       "    <tr>\n",
       "      <th>4</th>\n",
       "      <td>1366248</td>\n",
       "      <td>Durocher Simpson Koehli Erler LLP</td>\n",
       "      <td>Linette Rasmussen</td>\n",
       "      <td>Robert Simpson - Cannot log into cloud</td>\n",
       "      <td>Good afternoon,\\n\\nI am starting a ticket for ...</td>\n",
       "      <td>1</td>\n",
       "      <td>3</td>\n",
       "      <td>41</td>\n",
       "      <td>Email Connector</td>\n",
       "      <td>2021-02-19 16:35:57</td>\n",
       "    </tr>\n",
       "  </tbody>\n",
       "</table>\n",
       "</div>"
      ],
      "text/plain": [
       "   ticketNbr                              company_name       contact_name  \\\n",
       "0    1367437             Igloo Building Supplies Group      Steven Gravel   \n",
       "1    1367056  Group2 Architecture Interior Design Ltd.        Ron Murdoch   \n",
       "2    1366390                             Calmont Group     Brad Wearmouth   \n",
       "3    1366274                                       E4C      CÃ©line Scott   \n",
       "4    1366248         Durocher Simpson Koehli Erler LLP  Linette Rasmussen   \n",
       "\n",
       "                                             Summary  \\\n",
       "0                             - Set up authenticator   \n",
       "1               Ron Murdoch - bluebeam update failed   \n",
       "2                      Brad Wearmouth - Email hacked   \n",
       "3  CÃ©line Scott - Adobe still not fully functioning   \n",
       "4             Robert Simpson - Cannot log into cloud   \n",
       "\n",
       "                                 Initial_Description  SR_Impact_RecID  \\\n",
       "0  Hello,\\n\\nI have a new Iphone and I cannot fig...                1   \n",
       "1  Can you tell me what your computer name is and...                1   \n",
       "2  Hi,\\n\\nI believe my email has been compromised...                1   \n",
       "3  ### Summary of Issue\\r\\nAdobe still not fully ...                1   \n",
       "4  Good afternoon,\\n\\nI am starting a ticket for ...                1   \n",
       "\n",
       "   SR_Severity_RecID  SR_Board_RecID           Source        date_entered  \n",
       "0                  3              41  Email Connector 2021-02-22 08:07:10  \n",
       "1                  2              41  Email Connector 2021-02-21 10:36:46  \n",
       "2                  3              41  Email Connector 2021-02-19 21:34:56  \n",
       "3                  2              41     DeskDirector 2021-02-19 17:37:03  \n",
       "4                  3              41  Email Connector 2021-02-19 16:35:57  "
      ]
     },
     "execution_count": 2,
     "metadata": {},
     "output_type": "execute_result"
    }
   ],
   "source": [
    "train_set = pd.read_excel(\"Data/Tickets with Classifications.xlsx\")\n",
    "test_set = pd.read_csv(\"Data/NewTestSet.csv\")\n",
    "train_set.head()"
   ]
  },
  {
   "cell_type": "markdown",
   "metadata": {},
   "source": [
    "# Pre-processing"
   ]
  },
  {
   "cell_type": "code",
   "execution_count": 3,
   "metadata": {},
   "outputs": [],
   "source": [
    "X_train = ticket_cleaner.clean_tickets(ticketNbr = train_set.ticketNbr, contact_name = train_set.contact_name, company_name = train_set.company_name, Summary = train_set.Summary, Initial_Description = train_set.Initial_Description, Impact = train_set.SR_Impact_RecID, Severity = train_set.SR_Severity_RecID, Board = train_set.SR_Board_RecID, Source = train_set.Source, date_entered = train_set.date_entered)\n",
    "X_test = ticket_cleaner.clean_tickets(ticketNbr = test_set.ticketNbr, contact_name = test_set.contact_name, company_name = test_set.company_name, Summary = test_set.Summary, Initial_Description = test_set.Initial_Description, Impact = test_set.SR_Impact_RecID, Severity = test_set.SR_Severity_RecID, Board = test_set.SR_Board_RecID, Source = test_set.Source, date_entered = test_set.date_entered)"
   ]
  },
  {
   "cell_type": "code",
   "execution_count": 4,
   "metadata": {},
   "outputs": [
    {
     "data": {
      "text/html": [
       "<div>\n",
       "<style scoped>\n",
       "    .dataframe tbody tr th:only-of-type {\n",
       "        vertical-align: middle;\n",
       "    }\n",
       "\n",
       "    .dataframe tbody tr th {\n",
       "        vertical-align: top;\n",
       "    }\n",
       "\n",
       "    .dataframe thead th {\n",
       "        text-align: right;\n",
       "    }\n",
       "</style>\n",
       "<table border=\"1\" class=\"dataframe\">\n",
       "  <thead>\n",
       "    <tr style=\"text-align: right;\">\n",
       "      <th></th>\n",
       "      <th>combined_text</th>\n",
       "      <th>Impact</th>\n",
       "      <th>Severity</th>\n",
       "      <th>Board</th>\n",
       "      <th>Source</th>\n",
       "      <th>email_connector</th>\n",
       "      <th>deskdirector</th>\n",
       "      <th>email</th>\n",
       "      <th>renewal</th>\n",
       "      <th>escalation</th>\n",
       "      <th>brd36</th>\n",
       "      <th>brd41</th>\n",
       "      <th>brd43</th>\n",
       "      <th>Low_vs_MedHigh</th>\n",
       "      <th>LowMed_vs_High</th>\n",
       "    </tr>\n",
       "  </thead>\n",
       "  <tbody>\n",
       "    <tr>\n",
       "      <th>0</th>\n",
       "      <td>Set up authenticator. i have a new iphone and ...</td>\n",
       "      <td>0</td>\n",
       "      <td>2</td>\n",
       "      <td>41</td>\n",
       "      <td>Email Connector</td>\n",
       "      <td>1</td>\n",
       "      <td>0</td>\n",
       "      <td>0</td>\n",
       "      <td>0</td>\n",
       "      <td>0</td>\n",
       "      <td>0</td>\n",
       "      <td>1</td>\n",
       "      <td>0</td>\n",
       "      <td>1</td>\n",
       "      <td>0</td>\n",
       "    </tr>\n",
       "    <tr>\n",
       "      <th>1</th>\n",
       "      <td>bluebeam update failed. can you tell me what y...</td>\n",
       "      <td>0</td>\n",
       "      <td>1</td>\n",
       "      <td>41</td>\n",
       "      <td>Email Connector</td>\n",
       "      <td>1</td>\n",
       "      <td>0</td>\n",
       "      <td>0</td>\n",
       "      <td>0</td>\n",
       "      <td>0</td>\n",
       "      <td>0</td>\n",
       "      <td>1</td>\n",
       "      <td>0</td>\n",
       "      <td>1</td>\n",
       "      <td>1</td>\n",
       "    </tr>\n",
       "    <tr>\n",
       "      <th>2</th>\n",
       "      <td>Email hacked. i believe my email has been comp...</td>\n",
       "      <td>0</td>\n",
       "      <td>2</td>\n",
       "      <td>41</td>\n",
       "      <td>Email Connector</td>\n",
       "      <td>1</td>\n",
       "      <td>0</td>\n",
       "      <td>0</td>\n",
       "      <td>0</td>\n",
       "      <td>0</td>\n",
       "      <td>0</td>\n",
       "      <td>1</td>\n",
       "      <td>0</td>\n",
       "      <td>1</td>\n",
       "      <td>0</td>\n",
       "    </tr>\n",
       "    <tr>\n",
       "      <th>3</th>\n",
       "      <td>Adobe still not fully functioning. adobe still...</td>\n",
       "      <td>0</td>\n",
       "      <td>1</td>\n",
       "      <td>41</td>\n",
       "      <td>DeskDirector</td>\n",
       "      <td>0</td>\n",
       "      <td>1</td>\n",
       "      <td>0</td>\n",
       "      <td>0</td>\n",
       "      <td>0</td>\n",
       "      <td>0</td>\n",
       "      <td>1</td>\n",
       "      <td>0</td>\n",
       "      <td>1</td>\n",
       "      <td>1</td>\n",
       "    </tr>\n",
       "    <tr>\n",
       "      <th>4</th>\n",
       "      <td>Cannot log into cloud. i am starting a ticket ...</td>\n",
       "      <td>0</td>\n",
       "      <td>2</td>\n",
       "      <td>41</td>\n",
       "      <td>Email Connector</td>\n",
       "      <td>1</td>\n",
       "      <td>0</td>\n",
       "      <td>0</td>\n",
       "      <td>0</td>\n",
       "      <td>0</td>\n",
       "      <td>0</td>\n",
       "      <td>1</td>\n",
       "      <td>0</td>\n",
       "      <td>1</td>\n",
       "      <td>0</td>\n",
       "    </tr>\n",
       "  </tbody>\n",
       "</table>\n",
       "</div>"
      ],
      "text/plain": [
       "                                       combined_text  Impact  Severity  Board  \\\n",
       "0  Set up authenticator. i have a new iphone and ...       0         2     41   \n",
       "1  bluebeam update failed. can you tell me what y...       0         1     41   \n",
       "2  Email hacked. i believe my email has been comp...       0         2     41   \n",
       "3  Adobe still not fully functioning. adobe still...       0         1     41   \n",
       "4  Cannot log into cloud. i am starting a ticket ...       0         2     41   \n",
       "\n",
       "            Source  email_connector  deskdirector  email  renewal  escalation  \\\n",
       "0  Email Connector                1             0      0        0           0   \n",
       "1  Email Connector                1             0      0        0           0   \n",
       "2  Email Connector                1             0      0        0           0   \n",
       "3     DeskDirector                0             1      0        0           0   \n",
       "4  Email Connector                1             0      0        0           0   \n",
       "\n",
       "   brd36  brd41  brd43  Low_vs_MedHigh  LowMed_vs_High  \n",
       "0      0      1      0               1               0  \n",
       "1      0      1      0               1               1  \n",
       "2      0      1      0               1               0  \n",
       "3      0      1      0               1               1  \n",
       "4      0      1      0               1               0  "
      ]
     },
     "execution_count": 4,
     "metadata": {},
     "output_type": "execute_result"
    }
   ],
   "source": [
    "X_train.head()"
   ]
  },
  {
   "cell_type": "markdown",
   "metadata": {},
   "source": [
    "# Board Prediction"
   ]
  },
  {
   "cell_type": "code",
   "execution_count": 5,
   "metadata": {},
   "outputs": [
    {
     "name": "stdout",
     "output_type": "stream",
     "text": [
      "Total Time (mins): 0:01:53\n",
      "Total Time (mins): 0:03:56\n"
     ]
    }
   ],
   "source": [
    "# Replace this with roBERTa\n",
    "#Imports\n",
    "from bert_tokenizer import BERT_Tokenizer\n",
    "import transformers as ppb\n",
    "from transformers import DistilBertModel, DistilBertTokenizer\n",
    "\n",
    "#Loading pre-trained models\n",
    "max_length = 100\n",
    "model_class, tokenizer_class, pretrained_weights = (ppb.DistilBertModel, ppb.DistilBertTokenizer, 'distilbert-base-uncased')\n",
    "tokenizer = tokenizer_class.from_pretrained(pretrained_weights)\n",
    "model = model_class.from_pretrained(pretrained_weights)\n",
    "\n",
    "#Tokenizers\n",
    "X_text_train = BERT_Tokenizer(model = model, tokenizer = tokenizer, text = X_train.combined_text, max_len = max_length)\n",
    "X_text_test = BERT_Tokenizer(model = model, tokenizer = tokenizer, text = X_test.combined_text, max_len = max_length)"
   ]
  },
  {
   "cell_type": "code",
   "execution_count": 6,
   "metadata": {},
   "outputs": [
    {
     "name": "stdout",
     "output_type": "stream",
     "text": [
      "Training: \n",
      " [[430   1   2]\n",
      " [  5 761  47]\n",
      " [ 10  43 698]]\n",
      "Testing: \n",
      " [[ 377   15   64]\n",
      " [  50 1367  418]\n",
      " [ 176  249 1284]]\n"
     ]
    }
   ],
   "source": [
    "#Model Board and Predict\n",
    "Y_train_board = X_train.Board\n",
    "Y_test_board = X_test.Board\n",
    "\n",
    "board_svm = SVC(C=1, kernel='linear', class_weight='balanced', gamma=0.1)\n",
    "board_svm.fit(X_text_train,Y_train_board)\n",
    "\n",
    "board_train = board_svm.predict(X_text_train)\n",
    "board_test = board_svm.predict(X_text_test)\n",
    "\n",
    "print(\"Training: \\n\",confusion_matrix(Y_train_board,board_train))\n",
    "print(\"Testing: \\n\",confusion_matrix(Y_test_board,board_test))"
   ]
  },
  {
   "cell_type": "markdown",
   "metadata": {},
   "source": [
    "# Severity Prediction"
   ]
  },
  {
   "cell_type": "code",
   "execution_count": 7,
   "metadata": {},
   "outputs": [
    {
     "name": "stdout",
     "output_type": "stream",
     "text": [
      "--Importing pre-trained BERT model and tokenizer (1/3)--\n",
      "--Tokenizing Text. May take a while. (2/3)--\n",
      "Total Time (mins): 0:01:53\n",
      "--Combining Source and Board (3/3)--\n",
      "--Importing pre-trained BERT model and tokenizer (1/3)--\n",
      "--Tokenizing Text. May take a while. (2/3)--\n",
      "Total Time (mins): 0:03:49\n",
      "--Combining Source and Board (3/3)--\n"
     ]
    }
   ],
   "source": [
    "# Combine Text and OHE Source with Board Predictions \n",
    "import severity\n",
    "\n",
    "X_features_train = severity.add_board_predictions(X_train, board_predict = board_train)\n",
    "X_features_test = severity.add_board_predictions(X_test, board_predict = board_test)\n",
    "\n",
    "# Get Y Labels\n",
    "Y_severity_train = X_train.Severity\n",
    "Y_severity_test = X_test.Severity\n",
    "\n",
    "# Encode Text with BERT\n",
    "X_text_src_board_train = severity.format_inputs(X_features_train, max_len = 100)\n",
    "X_text_src_board_test = severity.format_inputs(X_features_test, max_len = 100)"
   ]
  },
  {
   "cell_type": "code",
   "execution_count": 8,
   "metadata": {},
   "outputs": [
    {
     "ename": "AttributeError",
     "evalue": "module 'severity' has no attribute 'train_combined'",
     "output_type": "error",
     "traceback": [
      "\u001b[1;31m---------------------------------------------------------------------------\u001b[0m",
      "\u001b[1;31mAttributeError\u001b[0m                            Traceback (most recent call last)",
      "\u001b[1;32m<ipython-input-8-b5f8f3816a9b>\u001b[0m in \u001b[0;36m<module>\u001b[1;34m\u001b[0m\n\u001b[0;32m      1\u001b[0m \u001b[1;31m#Train Model\u001b[0m\u001b[1;33m\u001b[0m\u001b[1;33m\u001b[0m\u001b[1;33m\u001b[0m\u001b[0m\n\u001b[1;32m----> 2\u001b[1;33m \u001b[0mseverity\u001b[0m\u001b[1;33m.\u001b[0m\u001b[0mtrain_combined\u001b[0m\u001b[1;33m(\u001b[0m\u001b[0mX_text_src_board_train\u001b[0m\u001b[1;33m,\u001b[0m\u001b[0mY_severity_train\u001b[0m\u001b[1;33m,\u001b[0m \u001b[0msave_model\u001b[0m \u001b[1;33m=\u001b[0m \u001b[1;34m\"Y\"\u001b[0m\u001b[1;33m,\u001b[0m \u001b[0mexport_path\u001b[0m \u001b[1;33m=\u001b[0m \u001b[1;34m\"./\"\u001b[0m\u001b[1;33m,\u001b[0m \u001b[0mverbose\u001b[0m\u001b[1;33m=\u001b[0m\u001b[1;36m2\u001b[0m\u001b[1;33m)\u001b[0m\u001b[1;33m\u001b[0m\u001b[1;33m\u001b[0m\u001b[0m\n\u001b[0m\u001b[0;32m      3\u001b[0m \u001b[1;33m\u001b[0m\u001b[0m\n\u001b[0;32m      4\u001b[0m \u001b[1;31m#Use Model to Predict\u001b[0m\u001b[1;33m\u001b[0m\u001b[1;33m\u001b[0m\u001b[1;33m\u001b[0m\u001b[0m\n\u001b[0;32m      5\u001b[0m \u001b[0mpred_probs\u001b[0m \u001b[1;33m=\u001b[0m \u001b[0mseverity\u001b[0m\u001b[1;33m.\u001b[0m\u001b[0mpredict_combined\u001b[0m\u001b[1;33m(\u001b[0m\u001b[0mX_predict\u001b[0m \u001b[1;33m=\u001b[0m \u001b[0mX_text_src_board_test\u001b[0m\u001b[1;33m,\u001b[0m \u001b[0mimport_path\u001b[0m \u001b[1;33m=\u001b[0m \u001b[1;34m\"./svm_severity_combined.joblib\"\u001b[0m\u001b[1;33m,\u001b[0m \u001b[0mverbose\u001b[0m \u001b[1;33m=\u001b[0m \u001b[1;36m2\u001b[0m\u001b[1;33m)\u001b[0m\u001b[1;33m\u001b[0m\u001b[1;33m\u001b[0m\u001b[0m\n",
      "\u001b[1;31mAttributeError\u001b[0m: module 'severity' has no attribute 'train_combined'"
     ]
    }
   ],
   "source": [
    "#Train Model\n",
    "severity.train_combined(X_text_src_board_train,Y_severity_train, save_model = \"Y\", export_path = \"./\", verbose=2)\n",
    "\n",
    "#Use Model to Predict\n",
    "pred_probs = severity.predict_combined(X_predict = X_text_src_board_test, import_path = \"./svm_severity_combined.joblib\", verbose = 2)\n",
    "\n",
    "print(confusion_matrix(Y_severity_test,pred_probs.Predict))"
   ]
  },
  {
   "cell_type": "code",
   "execution_count": null,
   "metadata": {},
   "outputs": [],
   "source": [
    "test_results = pred_probs.copy()\n",
    "test_results = test_results.assign(text = X_test.combined_text, Actual = X_test.Severity)\n",
    "test_results"
   ]
  },
  {
   "cell_type": "markdown",
   "metadata": {},
   "source": [
    "# Impact Prediction"
   ]
  },
  {
   "cell_type": "code",
   "execution_count": null,
   "metadata": {},
   "outputs": [],
   "source": [
    "# Combine Text and OHE Source with Board Predictions \n",
    "import impact \n",
    "\n",
    "X_features_train = severity.add_board_predictions(X_train, board_predict = board_train)\n",
    "X_features_test = severity.add_board_predictions(X_test, board_predict = board_test)\n",
    "\n",
    "# Get Y Labels\n",
    "Y_impact_train = X_train.Impact\n",
    "Y_impact_test = X_test.Impact\n",
    "\n",
    "# Encode Text with BERT\n",
    "X_text_src_board_train = severity.format_inputs(X_features_train, max_len = 100) \n",
    "X_text_src_board_test = severity.format_inputs(X_features_test, max_len = 100) "
   ]
  },
  {
   "cell_type": "code",
   "execution_count": null,
   "metadata": {},
   "outputs": [],
   "source": [
    "#Train Model\n",
    "impact.train_combined(X_text_src_board_train,Y_impact_train, export_path = \"./\", verbose=2)\n",
    "\n",
    "#Use Model to Predict\n",
    "pred_probs = impact.predict_combined(X_predict = X_text_src_board_test, import_path = \"./svm_severity_combined.joblib\", verbose = 2)\n",
    "\n",
    "print(confusion_matrix(Y_impact_test,pred_probs.Predict))"
   ]
  },
  {
   "cell_type": "code",
   "execution_count": null,
   "metadata": {},
   "outputs": [],
   "source": [
    "test_results = pred_probs.copy()\n",
    "test_results = test_results.assign(text = X_test.combined_text, Actual = X_test.Impact)\n",
    "test_results"
   ]
  }
 ],
 "metadata": {
  "interpreter": {
   "hash": "b3ba2566441a7c06988d0923437866b63cedc61552a5af99d1f4fb67d367b25f"
  },
  "kernelspec": {
   "display_name": "Python 3",
   "language": "python",
   "name": "python3"
  },
  "language_info": {
   "codemirror_mode": {
    "name": "ipython",
    "version": 3
   },
   "file_extension": ".py",
   "mimetype": "text/x-python",
   "name": "python",
   "nbconvert_exporter": "python",
   "pygments_lexer": "ipython3",
   "version": "3.8.3"
  }
 },
 "nbformat": 4,
 "nbformat_minor": 4
}
